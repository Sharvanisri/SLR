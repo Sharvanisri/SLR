{
 "cells": [
  {
   "cell_type": "code",
   "execution_count": 1,
   "metadata": {},
   "outputs": [],
   "source": [
    "import cv2\n",
    "import os\n",
    "import time \n",
    "import uuid"
   ]
  },
  {
   "cell_type": "code",
   "execution_count": 2,
   "metadata": {},
   "outputs": [],
   "source": [
    "image_path='Tensorflow\\workspace\\images\\collectedimages'"
   ]
  },
  {
   "cell_type": "code",
   "execution_count": 5,
   "metadata": {},
   "outputs": [
    {
     "ename": "SyntaxError",
     "evalue": "Missing parentheses in call to 'print'. Did you mean print(cv2._version_)? (<ipython-input-5-b43b2362b72d>, line 1)",
     "output_type": "error",
     "traceback": [
      "\u001b[1;36m  File \u001b[1;32m\"<ipython-input-5-b43b2362b72d>\"\u001b[1;36m, line \u001b[1;32m1\u001b[0m\n\u001b[1;33m    print cv2._version_\u001b[0m\n\u001b[1;37m            ^\u001b[0m\n\u001b[1;31mSyntaxError\u001b[0m\u001b[1;31m:\u001b[0m Missing parentheses in call to 'print'. Did you mean print(cv2._version_)?\n"
     ]
    }
   ],
   "source": [
    "print cv2._version_\n"
   ]
  },
  {
   "cell_type": "code",
   "execution_count": 3,
   "metadata": {},
   "outputs": [],
   "source": [
    "labels=['A','B','C','D','E','F','G','H','I','J','K','L','M','N','O','P','Q','R','S','T','U','V','W','X','Y','Z']\n",
    "number_images=25"
   ]
  },
  {
   "cell_type": "code",
   "execution_count": 4,
   "metadata": {
    "scrolled": true
   },
   "outputs": [
    {
     "name": "stdout",
     "output_type": "stream",
     "text": [
      "Collecting images for A\n",
      "Collecting images for B\n",
      "Collecting images for C\n",
      "Collecting images for D\n",
      "Collecting images for E\n",
      "Collecting images for F\n",
      "Collecting images for G\n",
      "Collecting images for H\n",
      "Collecting images for I\n",
      "Collecting images for J\n",
      "Collecting images for K\n",
      "Collecting images for L\n",
      "Collecting images for M\n",
      "Collecting images for N\n",
      "Collecting images for O\n",
      "Collecting images for P\n",
      "Collecting images for Q\n",
      "Collecting images for R\n",
      "Collecting images for S\n",
      "Collecting images for T\n",
      "Collecting images for U\n",
      "Collecting images for V\n",
      "Collecting images for W\n",
      "Collecting images for X\n",
      "Collecting images for Y\n",
      "Collecting images for Z\n"
     ]
    }
   ],
   "source": [
    "for label in labels:\n",
    "    !mkdir {\"Tensorflow\\workspace\\images\\collectedimages\\\\\"+label}\n",
    "    cap = cv2.VideoCapture(0)\n",
    "    print('Collecting images for {}'.format(label))\n",
    "    time.sleep(10)\n",
    "    for imgnum in range(number_images):\n",
    "        ret, frame = cap.read()\n",
    "        imgname = os.path.join(image_path, label, label+'.'+'{}.jpg'.format(str(uuid.uuid1())))\n",
    "        cv2.imwrite(imgname, frame)\n",
    "        cv2.imshow('frame', frame)\n",
    "        time.sleep(2)\n",
    "        \n",
    "        if cv2.waitKey(1) & 0xFF == ord('q'):\n",
    "            break\n",
    "    cap.release()"
   ]
  },
  {
   "cell_type": "code",
   "execution_count": null,
   "metadata": {},
   "outputs": [],
   "source": []
  }
 ],
 "metadata": {
  "kernelspec": {
   "display_name": "Python 3",
   "language": "python",
   "name": "python3"
  },
  "language_info": {
   "codemirror_mode": {
    "name": "ipython",
    "version": 3
   },
   "file_extension": ".py",
   "mimetype": "text/x-python",
   "name": "python",
   "nbconvert_exporter": "python",
   "pygments_lexer": "ipython3",
   "version": "3.7.3"
  }
 },
 "nbformat": 4,
 "nbformat_minor": 2
}
